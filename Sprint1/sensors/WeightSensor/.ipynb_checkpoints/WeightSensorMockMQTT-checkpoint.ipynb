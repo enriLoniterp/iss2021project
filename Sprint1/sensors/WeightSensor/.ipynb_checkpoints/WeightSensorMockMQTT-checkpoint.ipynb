{
 "cells": [
  {
   "cell_type": "code",
   "execution_count": 23,
   "metadata": {},
   "outputs": [],
   "source": [
    "## ThermometerMockMQTT\n",
    "## Simulates thermometer data emitted using MQTT \n",
    "## Manual or Random simulation can be selected\n",
    "## the perceiver is the ThermometerAdapter.kt (package Thermometer)"
   ]
  },
  {
   "cell_type": "code",
   "execution_count": 24,
   "metadata": {},
   "outputs": [],
   "source": [
    "import time\n",
    "import paho.mqtt.client as paho\n",
    "from random import randint"
   ]
  },
  {
   "cell_type": "code",
   "execution_count": 25,
   "metadata": {},
   "outputs": [],
   "source": [
    "brokerAddr     = \"localhost\"   \n",
    "topic          = \"weightSensor/data\"\n",
    " \n",
    "msgdispatch   = \"msg(applupdate, dispatch,python,sonarresource,applupdate(sonarrobot(VALUE)),5)\"\n",
    "msgevent      = \"msg(sonarrobot, event, python,none,weightSensor(VALUE),1)\"\n",
    "\n",
    "min_temperature = 18\n",
    "max_temperature = 45\n",
    "\n",
    "def sendMqtt(message) :\n",
    "    print(\"[WEIGHTSENSORMOCK][SEND_MQTT]\", message)\n",
    "    msg = message + \"\\n\"\n",
    "    byt = msg.encode()    \n",
    "    client.publish(topic, byt)\n",
    "\n",
    "def on_message(client, userdata, message) :\n",
    "    print(\"[WEIGHTSENSORMOCK][RECEIVED]\" , str(message.payload.decode(\"utf-8\")))\n",
    "    ## print(\"message topic=\",message.topic)\n",
    "    ## print(\"message qos=\",message.qos)\n",
    "    ## print(\"message retain flag=\",message.retain)\n",
    "    \n",
    "\n",
    "def init() :\n",
    "    client.subscribe(topic, qos = 0)      #subscribe before publish\n",
    "    client.on_message = on_message        #attach function to callback\n",
    "    client.loop_start()  #check for input messages\n",
    "\n",
    "def terminate() :\n",
    "    client.disconnect()\n",
    "    print(\"[WEIGHTSENSORMOCK][TERMINATE]\")\n",
    "    \n",
    "def console() :  \n",
    "    v =  str( input() )   \n",
    "    while(v != \"q\"):\n",
    "        m = msgevent.replace(\"VALUE\", v)\n",
    "        print(\"[WEIGHTSENSORMOCK][SENDING]\" + m)\n",
    "        sendMqtt(m)\n",
    "        v = str(input())    \n",
    "        \n",
    "def generate_random_data(seconds):\n",
    "    time_to_stop = time.time() + seconds\n",
    "    while(time.time() < time_to_stop):\n",
    "        t = randint(min_temperature, max_temperature)\n",
    "        m = msgevent.replace(\"VALUE\", str(t))\n",
    "        print(\"[WEIGHTSENSORMOCK][SENDING]\" + m)\n",
    "        sendMqtt(m)\n",
    "        time.sleep(5)"
   ]
  },
  {
   "cell_type": "code",
   "execution_count": 26,
   "metadata": {},
   "outputs": [
    {
     "name": "stdout",
     "output_type": "stream",
     "text": [
      "Successfully connected to broker  localhost\n",
      "Choose how to generate the data:\n",
      "1) Manual\n",
      " 2) Random\n",
      "1\n",
      "Press 'q' at any time to terminate the execution\n",
      "q\n",
      "[WEIGHTSENSORMOCK][TERMINATE]\n"
     ]
    }
   ],
   "source": [
    "# Client connect to the broker and init the mock\n",
    "client = paho.Client(\"senderPython\")      \n",
    "client.connect(brokerAddr)              #connect\n",
    "print(\"Successfully connected to broker \", brokerAddr)\n",
    "print(\"Choose how to generate the data:\\n1) Manual\\n 2) Random\")\n",
    "choose = int(input())\n",
    "init()\n",
    "if choose == 1:\n",
    "    print(\"Press 'q' at any time to terminate the execution\")\n",
    "    console()\n",
    "    terminate()\n",
    "else:\n",
    "    print(\"Insert the interval in seconds of the simulation: \")\n",
    "    seconds = int(input)\n",
    "    generate_random_data(seconds)\n",
    "    "
   ]
  },
  {
   "cell_type": "code",
   "execution_count": null,
   "metadata": {},
   "outputs": [],
   "source": []
  }
 ],
 "metadata": {
  "kernelspec": {
   "display_name": "Python 3 (ipykernel)",
   "language": "python",
   "name": "python3"
  },
  "language_info": {
   "codemirror_mode": {
    "name": "ipython",
    "version": 3
   },
   "file_extension": ".py",
   "mimetype": "text/x-python",
   "name": "python",
   "nbconvert_exporter": "python",
   "pygments_lexer": "ipython3",
   "version": "3.7.8"
  }
 },
 "nbformat": 4,
 "nbformat_minor": 2
}
