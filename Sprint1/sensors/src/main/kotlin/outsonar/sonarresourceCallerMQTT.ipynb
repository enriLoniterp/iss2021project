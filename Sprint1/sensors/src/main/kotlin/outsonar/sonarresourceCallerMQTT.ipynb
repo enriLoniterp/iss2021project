{
 "cells": [
  {
   "cell_type": "code",
   "execution_count": 1,
   "metadata": {},
   "outputs": [],
   "source": [
    "## WeightSensorMockMQTT\n",
    "## Simulates weightsensor data emitted using MQTT \n",
    "## Manual or Random simulation can be selected\n",
    "## the perceiver is the WeighSensorAdapter.kt (package weighsensor)"
   ]
  },
  {
   "cell_type": "code",
   "execution_count": 2,
   "metadata": {},
   "outputs": [],
   "source": [
    "import time\n",
    "import paho.mqtt.client as paho"
   ]
  },
  {
   "cell_type": "code",
   "execution_count": 3,
   "metadata": {},
   "outputs": [],
   "source": [
    "brokerAddr     = \"broker.hivemq.com:1883\"   ##\"broker.hivemq.com\" # tcp://broker.hivemq.com:1883\n",
    "topic          = \"sonar/data\"\n",
    " \n",
    "msgdispatch   = \"msg(applupdate, dispatch,python,sonarresource,applupdate(sonarrobot(VALUE)),5)\"\n",
    "msgevent      = \"msg(sonarrobot, event,   python,none,         sonar(VALUE),1)\""
   ]
  },
  {
   "cell_type": "code",
   "execution_count": 4,
   "metadata": {},
   "outputs": [],
   "source": [
    "def sendMqtt( message ) :\n",
    "    print(\"[SONARMOCK][SEND_MQTT]\", message)\n",
    "    msg = message + \"\\n\"\n",
    "    #byt=msg.encode()    #required in Python3\n",
    "    client.publish(topic, msg)\n",
    "\n",
    "def on_message(client, userdata, message) :\n",
    "    print(\"[SONARMOCK][RECEIVED]\", str(message.payload.decode(\"utf-8\")))\n",
    "    ## print(\"message topic=\",message.topic)\n",
    "    ## print(\"message qos=\",message.qos)\n",
    "    ## print(\"message retain flag=\",message.retain)\n",
    "    \n",
    "\n",
    "def init() :\n",
    "    client.subscribe(topic, qos=0)      #subscribe before publish\n",
    "    client.on_message=on_message        #attach function to callback\n",
    "    client.loop_start()  #check for input messages\n",
    "\n",
    "def terminate() :\n",
    "    client.disconnect()\n",
    "    print(\"[SONARMOCK][TERMINATE]\")\n",
    "    \n",
    "def console() :  \n",
    "    v =  str( input() )\n",
    "    ## print(\"INPUT\" , v  )    \n",
    "    while( v != \"q\"  ) :\n",
    "        ## print( v )\n",
    "        ## m = msgdispatch.replace(\"VALUE\",v)\n",
    "        m = msgevent.replace(\"VALUE\",v)\n",
    "        print(f\"[SONARMOCK][SENDING]{m}\")\n",
    "        sendMqtt( m )\n",
    "        v = str(input() )    "
   ]
  },
  {
   "cell_type": "code",
   "execution_count": null,
   "metadata": {},
   "outputs": [],
   "source": [
    "# start main application\n",
    "client = paho.Client(\"senderPython\")      \n",
    "client.connect(brokerAddr)              #connect\n",
    "print(\"connected to broker \", brokerAddr)\n",
    "init()\n",
    "console()"
   ]
  },
  {
   "cell_type": "code",
   "execution_count": null,
   "metadata": {},
   "outputs": [],
   "source": [
    "# start test\n",
    "client = paho.Client(\"senderPython\")      \n",
    "client.connect(brokerAddr)              #connect\n",
    "print(\"connected to broker \", brokerAddr)\n",
    "init()\n",
    "# send a choosen value and test if the adapter receives it"
   ]
  }
 ],
 "metadata": {
  "kernelspec": {
   "display_name": "Python 3",
   "language": "python",
   "name": "python3"
  },
  "language_info": {
   "codemirror_mode": {
    "name": "ipython",
    "version": 3
   },
   "file_extension": ".py",
   "mimetype": "text/x-python",
   "name": "python",
   "nbconvert_exporter": "python",
   "pygments_lexer": "ipython3",
   "version": "3.8.8"
  }
 },
 "nbformat": 4,
 "nbformat_minor": 2
}
