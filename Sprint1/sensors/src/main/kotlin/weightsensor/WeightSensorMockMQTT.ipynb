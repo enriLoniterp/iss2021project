{
 "cells": [
  {
   "cell_type": "code",
   "execution_count": 1,
   "metadata": {},
   "outputs": [],
   "source": [
    "## WeightSensorMockMQTT\n",
    "## Simulates weightsensor data emitted using MQTT \n",
    "## Manual or Random simulation can be selected\n",
    "## the perceiver is the WeighSensorAdapter.kt (package weighsensor)"
   ]
  },
  {
   "cell_type": "code",
   "execution_count": 3,
   "metadata": {},
   "outputs": [],
   "source": [
    "import time\n",
    "import paho.mqtt.client as paho\n",
    "from random import randint"
   ]
  },
  {
   "cell_type": "code",
   "execution_count": null,
   "metadata": {},
   "outputs": [],
   "source": [
    "brokerAddr     = \"broker.hivemq.com\"   \n",
    "topic          = \"weightSensor/data\"\n",
    " \n",
    "msgdispatch   = \"msg(applupdate, dispatch, python, sonarresource, applupdate(sonarrobot(VALUE)), 5)\"\n",
    "msgevent      = \"msg(sonarrobot, event, python, none, VALUE, 1)\""
   ]
  },
  {
   "cell_type": "code",
   "execution_count": 4,
   "metadata": {},
   "outputs": [],
   "source": [
    "def sendMqtt(message) :\n",
    "    print(\"[WEIGHTSENSORMOCK][SEND_MQTT]\", message)\n",
    "    msg = message + \"\\n\"\n",
    "    byt = msg.encode()    \n",
    "    client.publish(topic, byt)\n",
    "\n",
    "def on_message(client, userdata, message) :\n",
    "    print(\"[WEIGHTSENSORMOCK][RECEIVED]\" , str(message.payload.decode(\"utf-8\")))\n",
    "    ## print(\"message topic=\",message.topic)\n",
    "    ## print(\"message qos=\",message.qos)\n",
    "    ## print(\"message retain flag=\",message.retain)\n",
    "    \n",
    "\n",
    "def init() :\n",
    "    client.subscribe(topic, qos = 0)      #subscribe before publish\n",
    "    client.on_message = on_message        #attach function to callback\n",
    "    client.loop_start()  #check for input messages\n",
    "\n",
    "def terminate() :\n",
    "    client.disconnect()\n",
    "    print(\"[WEIGHTSENSORMOCK][TERMINATE]\")\n",
    "    \n",
    "def console() :  \n",
    "    v =  str( input() )   \n",
    "    while(v != \"q\"):\n",
    "        m = msgevent.replace(\"VALUE\", v)\n",
    "        print(\"[WEIGHTSENSORMOCK][SENDING]\" + m)\n",
    "        sendMqtt(m)\n",
    "        v = str(input())"
   ]
  },
  {
   "cell_type": "code",
   "execution_count": null,
   "metadata": {},
   "outputs": [
    {
     "name": "stdout",
     "output_type": "stream",
     "text": [
      "Successfully connected to broker  localhost\n",
      "Choose how to generate the data:\n",
      "1) Manual\n",
      " 2) Random\n",
      "1\n",
      "Press 'q' at any time to terminate the execution\n",
      "34\n",
      "[WEIGHTSENSORMOCK][SENDING]msg(sonarrobot, event, python,none,weightSensor(34),1)\n",
      "[WEIGHTSENSORMOCK][SEND_MQTT] msg(sonarrobot, event, python,none,weightSensor(34),1)\n",
      "[WEIGHTSENSORMOCK][RECEIVED] msg(sonarrobot, event, python,none,weightSensor(34),1)\n",
      "\n"
     ]
    }
   ],
   "source": [
    "# Client connect to the broker and init the mock\n",
    "client = paho.Client(\"senderPython\")      \n",
    "client.connect(brokerAddr)              #connect\n",
    "print(\"Successfully connected to broker \", brokerAddr)\n",
    "init()\n",
    "console()\n",
    "terminate() "
   ]
  },
  {
   "cell_type": "markdown",
   "metadata": {},
   "source": [
    "### Test Function"
   ]
  },
  {
   "cell_type": "code",
   "execution_count": null,
   "metadata": {},
   "outputs": [],
   "source": [
    "test_value = 1\n",
    "\n",
    "# Client connect to the broker and init the mock\n",
    "client = paho.Client(\"senderPython\")      \n",
    "client.connect(brokerAddr)              #connect\n",
    "print(\"Successfully connected to broker \", brokerAddr)\n",
    "m = msgevent.replace(\"VALUE\", str(test_value))\n",
    "print(\"[WEIGHTSENSORMOCK][TEST][SENDING]\" + m)\n",
    "sendMqtt(m)\n",
    "# check client side if 0 arrived\n",
    "terminate()"
   ]
  }
 ],
 "metadata": {
  "kernelspec": {
   "display_name": "Python 3",
   "language": "python",
   "name": "python3"
  },
  "language_info": {
   "codemirror_mode": {
    "name": "ipython",
    "version": 3
   },
   "file_extension": ".py",
   "mimetype": "text/x-python",
   "name": "python",
   "nbconvert_exporter": "python",
   "pygments_lexer": "ipython3",
   "version": "3.8.8"
  }
 },
 "nbformat": 4,
 "nbformat_minor": 2
}
