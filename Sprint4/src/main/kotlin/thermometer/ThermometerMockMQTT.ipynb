{
 "cells": [
  {
   "cell_type": "code",
   "execution_count": 1,
   "metadata": {},
   "outputs": [],
   "source": [
    "## ThermometerMockMQTT\n",
    "## Simulates thermometer data emitted using MQTT\n",
    "## the perceiver is the ThermometerAdapter.kt (package Thermometer)"
   ]
  },
  {
   "cell_type": "code",
   "execution_count": 2,
   "metadata": {},
   "outputs": [
    {
     "name": "stdout",
     "output_type": "stream",
     "text": [
      "\u001b[33mDEPRECATION: Configuring installation scheme with distutils config files is deprecated and will no longer work in the near future. If you are using a Homebrew or Linuxbrew Python, please see discussion at https://github.com/Homebrew/homebrew-core/issues/76621\u001b[0m\u001b[33m\n",
      "\u001b[0mRequirement already satisfied: paho-mqtt in /opt/homebrew/lib/python3.9/site-packages (1.6.1)\n",
      "\u001b[33mDEPRECATION: Configuring installation scheme with distutils config files is deprecated and will no longer work in the near future. If you are using a Homebrew or Linuxbrew Python, please see discussion at https://github.com/Homebrew/homebrew-core/issues/76621\u001b[0m\u001b[33m\n",
      "\u001b[0m"
     ]
    }
   ],
   "source": [
    "# install paho library\n",
    "\n",
    "!pip install paho-mqtt"
   ]
  },
  {
   "cell_type": "code",
   "execution_count": 3,
   "metadata": {},
   "outputs": [],
   "source": [
    "import time\n",
    "import paho.mqtt.client as paho\n",
    "from random import randint"
   ]
  },
  {
   "cell_type": "code",
   "execution_count": 4,
   "metadata": {},
   "outputs": [],
   "source": [
    "brokerAddr     = \"broker.hivemq.com\"  \n",
    "topic          = \"thermometer/data\"\n",
    " \n",
    "msgdispatch   = \"msg(applupdate, dispatch, python, sonarresource, applupdate(sonarrobot(VALUE)), 5)\"\n",
    "msgevent      = \"msg(sonarrobot, event,   python, none, VALUE, 1)\"\n",
    "\n",
    "min_temperature = 18\n",
    "max_temperature = 45"
   ]
  },
  {
   "cell_type": "code",
   "execution_count": 5,
   "metadata": {},
   "outputs": [],
   "source": [
    "def sendMqtt(message) :\n",
    "    print(\"[THERMOMETERMOCK][SEND_MQTT]\", message)\n",
    "    msg = message + \"\\n\"\n",
    "    byt = msg.encode()    \n",
    "    client.publish(topic, byt)\n",
    "\n",
    "def on_message(client, userdata, message) :\n",
    "    print(\"[THERMOMETERMOCK][RECEIVED]\" , str(message.payload.decode(\"utf-8\")))\n",
    "    ## print(\"message topic=\",message.topic)\n",
    "    ## print(\"message qos=\",message.qos)\n",
    "    ## print(\"message retain flag=\",message.retain)\n",
    "    \n",
    "\n",
    "def init() :\n",
    "    client.subscribe(topic, qos = 0)      #subscribe before publish\n",
    "    client.on_message = on_message        #attach function to callback\n",
    "    client.loop_start()  #check for input messages\n",
    "\n",
    "def terminate() :\n",
    "    client.disconnect()\n",
    "    print(\"[THERMOMETERMOCK][TERMINATE]\")"
   ]
  },
  {
   "cell_type": "markdown",
   "metadata": {},
   "source": [
    "### Send temperature"
   ]
  },
  {
   "cell_type": "code",
   "execution_count": null,
   "metadata": {},
   "outputs": [
    {
     "name": "stdout",
     "output_type": "stream",
     "text": [
      "Successfully connected to broker  broker.hivemq.com\n",
      "22\n",
      "[THERMOMETERMOCK][TEST][SENDING]\t22\n",
      "[THERMOMETERMOCK][SEND_MQTT] msg(sonarrobot, event,   python, none, 22, 1)\n"
     ]
    }
   ],
   "source": [
    "# Client connect to the broker and init the mock\n",
    "# Consol\n",
    "client = paho.Client(\"senderPython\")      \n",
    "client.connect(brokerAddr)              #connect\n",
    "print(\"Successfully connected to broker \", brokerAddr)\n",
    "while(True):\n",
    "    temperature = 25\n",
    "    temperature =  str(input()) \n",
    "    if temperature == \"q\":\n",
    "        terminate()\n",
    "        break\n",
    "    m = msgevent.replace(\"VALUE\", str(temperature))\n",
    "    print(f\"[THERMOMETERMOCK][SENDING]\\t{temperature}\")\n",
    "    sendMqtt(m)"
   ]
  },
  {
   "cell_type": "markdown",
   "metadata": {},
   "source": [
    "### Random temperature"
   ]
  },
  {
   "cell_type": "code",
   "execution_count": 9,
   "metadata": {},
   "outputs": [
    {
     "name": "stdout",
     "output_type": "stream",
     "text": [
      "Successfully connected to broker  broker.hivemq.com\n",
      "[THERMOMETERMOCK][TEST][SENDING]\t30\n",
      "[THERMOMETERMOCK][SEND_MQTT] msg(sonarrobot, event,   python, none, 30, 1)\n",
      "[THERMOMETERMOCK][TEST][SENDING]\t19\n",
      "[THERMOMETERMOCK][SEND_MQTT] msg(sonarrobot, event,   python, none, 19, 1)\n",
      "[THERMOMETERMOCK][TEST][SENDING]\t22\n",
      "[THERMOMETERMOCK][SEND_MQTT] msg(sonarrobot, event,   python, none, 22, 1)\n",
      "[THERMOMETERMOCK][TEST][SENDING]\t33\n",
      "[THERMOMETERMOCK][SEND_MQTT] msg(sonarrobot, event,   python, none, 33, 1)\n"
     ]
    },
    {
     "ename": "KeyboardInterrupt",
     "evalue": "",
     "output_type": "error",
     "traceback": [
      "\u001b[0;31m---------------------------------------------------------------------------\u001b[0m",
      "\u001b[0;31mKeyboardInterrupt\u001b[0m                         Traceback (most recent call last)",
      "\u001b[0;32m/var/folders/dz/pk485gcn4gx1v4zzy6td5q4m0000gn/T/ipykernel_54139/4011070216.py\u001b[0m in \u001b[0;36m<module>\u001b[0;34m\u001b[0m\n\u001b[1;32m      7\u001b[0m     \u001b[0mprint\u001b[0m\u001b[0;34m(\u001b[0m\u001b[0;34mf\"[THERMOMETERMOCK][TEST][SENDING]\\t{temperature}\"\u001b[0m\u001b[0;34m)\u001b[0m\u001b[0;34m\u001b[0m\u001b[0;34m\u001b[0m\u001b[0m\n\u001b[1;32m      8\u001b[0m     \u001b[0msendMqtt\u001b[0m\u001b[0;34m(\u001b[0m\u001b[0mm\u001b[0m\u001b[0;34m)\u001b[0m\u001b[0;34m\u001b[0m\u001b[0;34m\u001b[0m\u001b[0m\n\u001b[0;32m----> 9\u001b[0;31m     \u001b[0mtime\u001b[0m\u001b[0;34m.\u001b[0m\u001b[0msleep\u001b[0m\u001b[0;34m(\u001b[0m\u001b[0;36m4\u001b[0m\u001b[0;34m)\u001b[0m\u001b[0;34m\u001b[0m\u001b[0;34m\u001b[0m\u001b[0m\n\u001b[0m",
      "\u001b[0;31mKeyboardInterrupt\u001b[0m: "
     ]
    }
   ],
   "source": [
    "client = paho.Client(\"senderPython\")      \n",
    "client.connect(brokerAddr)              #connect\n",
    "print(\"Successfully connected to broker \", brokerAddr)\n",
    "while(True):\n",
    "    temperature = str(randint(min_temperature, max_temperature))\n",
    "    m = msgevent.replace(\"VALUE\", str(temperature))\n",
    "    print(f\"[THERMOMETERMOCK][TEST][SENDING]\\t{temperature}\")\n",
    "    sendMqtt(m)\n",
    "    time.sleep(4)"
   ]
  },
  {
   "cell_type": "markdown",
   "metadata": {},
   "source": [
    "### Test Function"
   ]
  },
  {
   "cell_type": "code",
   "execution_count": 9,
   "metadata": {},
   "outputs": [
    {
     "name": "stdout",
     "output_type": "stream",
     "text": [
      "Successfully connected to broker  broker.hivemq.com\n",
      "[THERMOMETERMOCK][TEST][SENDING]\t28\n",
      "[THERMOMETERMOCK][SEND_MQTT] msg(sonarrobot, event,   python, none, 28, 1)\n"
     ]
    }
   ],
   "source": [
    "test_value = 28\n",
    "\n",
    "# Client connect to the broker and init the mock\n",
    "client = paho.Client(\"senderPython\")      \n",
    "client.connect(brokerAddr)              #connect\n",
    "print(\"Successfully connected to broker \", brokerAddr)\n",
    "m = msgevent.replace(\"VALUE\", str(test_value))\n",
    "print(f\"[THERMOMETERMOCK][TEST][SENDING]\\t{test_value}\")\n",
    "sendMqtt(m)\n",
    "# check if client received test_value"
   ]
  }
 ],
 "metadata": {
  "kernelspec": {
   "display_name": "Python 3 (ipykernel)",
   "language": "python",
   "name": "python3"
  },
  "language_info": {
   "codemirror_mode": {
    "name": "ipython",
    "version": 3
   },
   "file_extension": ".py",
   "mimetype": "text/x-python",
   "name": "python",
   "nbconvert_exporter": "python",
   "pygments_lexer": "ipython3",
   "version": "3.9.12"
  }
 },
 "nbformat": 4,
 "nbformat_minor": 2
}
