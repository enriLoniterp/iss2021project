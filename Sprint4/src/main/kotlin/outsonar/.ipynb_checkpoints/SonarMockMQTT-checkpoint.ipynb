{
 "cells": [
  {
   "cell_type": "code",
   "execution_count": 1,
   "metadata": {},
   "outputs": [],
   "source": [
    "## WeightSensorMockMQTT\n",
    "## Simulates weightsensor data emitted using MQTT \n",
    "## the perceiver is the WeighSensorAdapter.kt (package weighsensor)"
   ]
  },
  {
   "cell_type": "code",
   "execution_count": 1,
   "metadata": {},
   "outputs": [
    {
     "name": "stdout",
     "output_type": "stream",
     "text": [
      "\u001b[33mDEPRECATION: Configuring installation scheme with distutils config files is deprecated and will no longer work in the near future. If you are using a Homebrew or Linuxbrew Python, please see discussion at https://github.com/Homebrew/homebrew-core/issues/76621\u001b[0m\u001b[33m\n",
      "\u001b[0m\u001b[31mERROR: Could not find a version that satisfies the requirement time (from versions: none)\u001b[0m\u001b[31m\n",
      "\u001b[0m\u001b[31mERROR: No matching distribution found for time\u001b[0m\u001b[31m\n",
      "\u001b[0m\u001b[33mDEPRECATION: Configuring installation scheme with distutils config files is deprecated and will no longer work in the near future. If you are using a Homebrew or Linuxbrew Python, please see discussion at https://github.com/Homebrew/homebrew-core/issues/76621\u001b[0m\u001b[33m\n",
      "\u001b[0mRequirement already satisfied: paho-mqtt in /opt/homebrew/lib/python3.9/site-packages (1.6.1)\n",
      "\u001b[33mDEPRECATION: Configuring installation scheme with distutils config files is deprecated and will no longer work in the near future. If you are using a Homebrew or Linuxbrew Python, please see discussion at https://github.com/Homebrew/homebrew-core/issues/76621\u001b[0m\u001b[33m\n",
      "\u001b[0m"
     ]
    }
   ],
   "source": [
    "# install paho library\n",
    "\n",
    "!pip install paho-mqtt"
   ]
  },
  {
   "cell_type": "code",
   "execution_count": 7,
   "metadata": {},
   "outputs": [],
   "source": [
    "import time\n",
    "import paho.mqtt.client as paho"
   ]
  },
  {
   "cell_type": "code",
   "execution_count": 8,
   "metadata": {},
   "outputs": [],
   "source": [
    "brokerAddr     = \"broker.hivemq.com\"\n",
    "topic          = \"sonar/data\"\n",
    " \n",
    "msgdispatch   = \"msg(applupdate, dispatch, python, sonarresource, applupdate(sonarrobot(VALUE)), 5)\"\n",
    "msgevent      = \"msg(sonarrobot, event, python, none, VALUE , 1)\""
   ]
  },
  {
   "cell_type": "code",
   "execution_count": 9,
   "metadata": {},
   "outputs": [],
   "source": [
    "def sendMqtt( message ) :\n",
    "    print(\"[SONARMOCK][SEND_MQTT]\", message)\n",
    "    msg = message + \"\\n\"\n",
    "    byt = msg.encode()\n",
    "    client.publish(topic, byt)\n",
    "\n",
    "def on_message(client, userdata, message) :\n",
    "    print(\"[SONARMOCK][RECEIVED]\", str(message.payload.decode(\"utf-8\")))\n",
    "    ## print(\"message topic=\",message.topic)\n",
    "    ## print(\"message qos=\",message.qos)\n",
    "    ## print(\"message retain flag=\",message.retain)\n",
    "    \n",
    "\n",
    "def init() :\n",
    "    client.subscribe(topic, qos=0)      #subscribe before publish\n",
    "    client.on_message=on_message        #attach function to callback\n",
    "    client.loop_start()  #check for input messages\n",
    "\n",
    "def terminate() :\n",
    "    client.disconnect()\n",
    "    print(\"[SONARMOCK][TERMINATE]\")\n",
    "       "
   ]
  },
  {
   "cell_type": "markdown",
   "metadata": {},
   "source": [
    "### Test Function"
   ]
  },
  {
   "cell_type": "code",
   "execution_count": 12,
   "metadata": {},
   "outputs": [
    {
     "name": "stdout",
     "output_type": "stream",
     "text": [
      "connected to broker  broker.hivemq.com\n",
      "[SONAR][TEST][SENDING]\t30\n",
      "[SONARMOCK][SEND_MQTT] msg(sonarrobot, event, python, none, 30 , 1)\n"
     ]
    }
   ],
   "source": [
    "# start test\n",
    "test_value = 30\n",
    "\n",
    "client = paho.Client(\"senderPython\")      \n",
    "client.connect(brokerAddr)              #connect\n",
    "print(\"connected to broker \", brokerAddr)\n",
    "m = msgevent.replace(\"VALUE\", str(test_value))\n",
    "# send a choosen value and test if the adapter receives it\n",
    "print(f\"[SONAR][TEST][SENDING]\\t{test_value}\")\n",
    "sendMqtt(m)"
   ]
  },
  {
   "cell_type": "code",
   "execution_count": null,
   "metadata": {},
   "outputs": [],
   "source": []
  }
 ],
 "metadata": {
  "kernelspec": {
   "display_name": "Python 3 (ipykernel)",
   "language": "python",
   "name": "python3"
  },
  "language_info": {
   "codemirror_mode": {
    "name": "ipython",
    "version": 3
   },
   "file_extension": ".py",
   "mimetype": "text/x-python",
   "name": "python",
   "nbconvert_exporter": "python",
   "pygments_lexer": "ipython3",
   "version": "3.7.9"
  }
 },
 "nbformat": 4,
 "nbformat_minor": 2
}
