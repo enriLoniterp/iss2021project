{
 "cells": [
  {
   "cell_type": "code",
   "execution_count": 1,
   "metadata": {},
   "outputs": [],
   "source": [
    "## WeightSensorMockMQTT\n",
    "## Simulates weightsensor data emitted using MQTT \n",
    "## the perceiver is the WeighSensorAdapter.kt (package weighsensor)"
   ]
  },
  {
   "cell_type": "code",
   "execution_count": 1,
   "metadata": {},
   "outputs": [
    {
     "name": "stdout",
     "output_type": "stream",
     "text": [
      "Requirement already satisfied: paho-mqtt in c:\\users\\filippo manfreda\\appdata\\local\\programs\\python\\python37\\lib\\site-packages (1.6.1)"
     ]
    },
    {
     "name": "stderr",
     "output_type": "stream",
     "text": [
      "WARNING: You are using pip version 21.3; however, version 22.0.4 is available.\n",
      "You should consider upgrading via the 'C:\\Users\\Filippo Manfreda\\AppData\\Local\\Programs\\Python\\Python37\\python.exe -m pip install --upgrade pip' command.\n"
     ]
    },
    {
     "name": "stdout",
     "output_type": "stream",
     "text": [
      "\n"
     ]
    }
   ],
   "source": [
    "# install paho library\n",
    "\n",
    "!pip install paho-mqtt"
   ]
  },
  {
   "cell_type": "code",
   "execution_count": 1,
   "metadata": {},
   "outputs": [],
   "source": [
    "import time\n",
    "import paho.mqtt.client as paho\n",
    "from random import randint"
   ]
  },
  {
   "cell_type": "code",
   "execution_count": 2,
   "metadata": {},
   "outputs": [],
   "source": [
    "brokerAddr     = \"broker.hivemq.com\"   \n",
    "topic          = \"weightSensor/data\"\n",
    " \n",
    "msgdispatch   = \"msg(applupdate, dispatch, python, sonarresource, applupdate(sonarrobot(VALUE)), 5)\"\n",
    "msgevent      = \"msg(sonarrobot, event, python, none, VALUE, 1)\""
   ]
  },
  {
   "cell_type": "code",
   "execution_count": 3,
   "metadata": {},
   "outputs": [],
   "source": [
    "def sendMqtt(message) :\n",
    "    print(\"[WEIGHTSENSORMOCK][SEND_MQTT]\", message)\n",
    "    msg = message + \"\\n\"\n",
    "    byt = msg.encode()    \n",
    "    client.publish(topic, byt)\n",
    "\n",
    "def on_message(client, userdata, message) :\n",
    "    print(\"[WEIGHTSENSORMOCK][RECEIVED]\" , str(message.payload.decode(\"utf-8\")))\n",
    "    ## print(\"message topic=\",message.topic)\n",
    "    ## print(\"message qos=\",message.qos)\n",
    "    ## print(\"message retain flag=\",message.retain)\n",
    "    \n",
    "\n",
    "def init() :\n",
    "    client.subscribe(topic, qos = 0)      #subscribe before publish\n",
    "    client.on_message = on_message        #attach function to callback\n",
    "    client.loop_start()  #check for input messages\n",
    "\n",
    "def terminate() :\n",
    "    client.disconnect()\n",
    "    print(\"[WEIGHTSENSORMOCK][TERMINATE]\")"
   ]
  },
  {
   "cell_type": "markdown",
   "metadata": {},
   "source": [
    "### CAR PLACED"
   ]
  },
  {
   "cell_type": "code",
   "execution_count": 9,
   "metadata": {},
   "outputs": [
    {
     "name": "stdout",
     "output_type": "stream",
     "text": [
      "Successfully connected to broker  broker.hivemq.com\n",
      "[WEIGHTSENSORMOCK][SENDING]msg(sonarrobot, event, python, none, 100, 1)\n",
      "[WEIGHTSENSORMOCK][SEND_MQTT] msg(sonarrobot, event, python, none, 100, 1)\n"
     ]
    }
   ],
   "source": [
    "# Client connect to the broker and init the mock\n",
    "client = paho.Client(\"senderPython\")      \n",
    "client.connect(brokerAddr)              #connect\n",
    "print(\"Successfully connected to broker \", brokerAddr)\n",
    "m = msgevent.replace(\"VALUE\", str(100))\n",
    "print(\"[WEIGHTSENSORMOCK][SENDING]\" + m)\n",
    "sendMqtt(m)"
   ]
  },
  {
   "cell_type": "markdown",
   "metadata": {},
   "source": [
    "### CAR NOT PLACED"
   ]
  },
  {
   "cell_type": "code",
   "execution_count": 8,
   "metadata": {},
   "outputs": [
    {
     "name": "stdout",
     "output_type": "stream",
     "text": [
      "Successfully connected to broker  broker.hivemq.com\n",
      "[WEIGHTSENSORMOCK][SENDING]msg(sonarrobot, event, python, none, 0, 1)\n",
      "[WEIGHTSENSORMOCK][SEND_MQTT] msg(sonarrobot, event, python, none, 0, 1)\n"
     ]
    }
   ],
   "source": [
    "# Client connect to the broker and init the mock\n",
    "client = paho.Client(\"senderPython\")      \n",
    "client.connect(brokerAddr)              #connect\n",
    "print(\"Successfully connected to broker \", brokerAddr)\n",
    "m = msgevent.replace(\"VALUE\", str(0))\n",
    "print(\"[WEIGHTSENSORMOCK][SENDING]\" + m)\n",
    "sendMqtt(m)"
   ]
  },
  {
   "cell_type": "markdown",
   "metadata": {},
   "source": [
    "### TERMINATE CONNECTION"
   ]
  },
  {
   "cell_type": "code",
   "execution_count": null,
   "metadata": {},
   "outputs": [],
   "source": [
    "terminate()"
   ]
  },
  {
   "cell_type": "markdown",
   "metadata": {},
   "source": [
    "### Test Function"
   ]
  },
  {
   "cell_type": "code",
   "execution_count": null,
   "metadata": {},
   "outputs": [],
   "source": [
    "test_value = 100\n",
    "\n",
    "# Client connect to the broker and init the mock\n",
    "client = paho.Client(\"senderPython\")      \n",
    "client.connect(brokerAddr)              #connect\n",
    "print(\"Successfully connected to broker \", brokerAddr)\n",
    "m = msgevent.replace(\"VALUE\", str(test_value))\n",
    "print(\"[WEIGHTSENSORMOCK][TEST][SENDING]\" + m)\n",
    "sendMqtt(m)\n",
    "# check client side if 0 arrived\n",
    "#terminate()"
   ]
  },
  {
   "cell_type": "code",
   "execution_count": null,
   "metadata": {},
   "outputs": [],
   "source": []
  }
 ],
 "metadata": {
  "kernelspec": {
   "display_name": "Python 3 (ipykernel)",
   "language": "python",
   "name": "python3"
  },
  "language_info": {
   "codemirror_mode": {
    "name": "ipython",
    "version": 3
   },
   "file_extension": ".py",
   "mimetype": "text/x-python",
   "name": "python",
   "nbconvert_exporter": "python",
   "pygments_lexer": "ipython3",
   "version": "3.7.9"
  }
 },
 "nbformat": 4,
 "nbformat_minor": 2
}
